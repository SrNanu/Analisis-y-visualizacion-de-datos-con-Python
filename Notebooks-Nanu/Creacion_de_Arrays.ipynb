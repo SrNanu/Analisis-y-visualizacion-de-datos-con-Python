{
 "cells": [
  {
   "cell_type": "code",
   "execution_count": 2,
   "id": "b063f452-7f83-43f8-8147-2dc97ad1da85",
   "metadata": {},
   "outputs": [],
   "source": [
    "import numpy as np"
   ]
  },
  {
   "cell_type": "code",
   "execution_count": 3,
   "id": "fa942c99-0b18-4fb5-a9cd-3b2b211a9dee",
   "metadata": {},
   "outputs": [],
   "source": [
    "l = [1,2,3]"
   ]
  },
  {
   "cell_type": "code",
   "execution_count": 4,
   "id": "031bfc0a-98ab-4b58-929a-0bcc0ebdcc52",
   "metadata": {},
   "outputs": [],
   "source": [
    "a = np.array(l)"
   ]
  },
  {
   "cell_type": "code",
   "execution_count": 5,
   "id": "27d4fdb5-de76-4280-aaf7-f52efd689e82",
   "metadata": {},
   "outputs": [],
   "source": [
    "l2 = [[1,2],[3,4]]"
   ]
  },
  {
   "cell_type": "code",
   "execution_count": 8,
   "id": "a51ad346-5311-4b22-ad7c-1319121a42be",
   "metadata": {},
   "outputs": [],
   "source": [
    "a2 = np.array(l2)"
   ]
  },
  {
   "cell_type": "code",
   "execution_count": 9,
   "id": "03a6b7e3-db04-4fc2-84b5-a9d88847c1f5",
   "metadata": {},
   "outputs": [
    {
     "name": "stdout",
     "output_type": "stream",
     "text": [
      "[[1, 2], [3, 4]]\n",
      "[[1 2]\n",
      " [3 4]]\n"
     ]
    }
   ],
   "source": [
    "print(l2)\n",
    "print(a2)"
   ]
  },
  {
   "cell_type": "code",
   "execution_count": 10,
   "id": "db136fd6-6a71-4624-8506-1f8d03667547",
   "metadata": {},
   "outputs": [],
   "source": [
    "## Arrays de ceros y unos\n",
    "zeros_array = np.zeros((2, 3))\n",
    "ones_array = np.ones((3, 2))\n",
    "print(\"Zeros Array:\\n\", zeros_array)\n",
    "print(\"Ones Array:\\n\", ones_array)\n"
   ]
  },
  {
   "cell_type": "code",
   "execution_count": null,
   "id": "66ddc24a-5633-47b1-9854-e414877f4e06",
   "metadata": {},
   "outputs": [],
   "source": [
    "## Arrays de rangos\n",
    "range_array = np.arange(10)\n",
    "print(\"Range Array:\", range_array)\n"
   ]
  },
  {
   "cell_type": "code",
   "execution_count": null,
   "id": "8199fee7-0ba4-4e5a-b9dc-3c1b1ad04930",
   "metadata": {},
   "outputs": [],
   "source": [
    "## Arrays espaciados linealmente\n",
    "linspace_array = np.linspace(0, 1, num=5) \n",
    "print(\"Linspace Array:\", linspace_array)\n"
   ]
  },
  {
   "cell_type": "code",
   "execution_count": null,
   "id": "37d9ad67-04ef-4389-b6d7-0b739d13b1b7",
   "metadata": {},
   "outputs": [],
   "source": [
    "## matriz identidad\n",
    "\n",
    "identity_matrix = np.eye(4)\n",
    "print(\"Identity Matrix:\\n\", identity_matrix)"
   ]
  },
  {
   "cell_type": "code",
   "execution_count": null,
   "id": "d3018fa4-7f42-4c26-b175-609af7a4d9ea",
   "metadata": {},
   "outputs": [],
   "source": [
    "## Arrays con tipos de datos especificos\n",
    "\n",
    "int_array = np.array([1, 2, 3], dtype='int32')\n",
    "float_array = np.array([1, 2, 3], dtype='float32')\n",
    "print(\"Integer Array:\", int_array)\n",
    "print(\"Float Array:\", float_array)"
   ]
  }
 ],
 "metadata": {
  "kernelspec": {
   "display_name": "Python 3 (ipykernel)",
   "language": "python",
   "name": "python3"
  },
  "language_info": {
   "codemirror_mode": {
    "name": "ipython",
    "version": 3
   },
   "file_extension": ".py",
   "mimetype": "text/x-python",
   "name": "python",
   "nbconvert_exporter": "python",
   "pygments_lexer": "ipython3",
   "version": "3.11.6"
  }
 },
 "nbformat": 4,
 "nbformat_minor": 5
}
